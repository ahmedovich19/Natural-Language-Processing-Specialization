{
  "nbformat": 4,
  "nbformat_minor": 0,
  "metadata": {
    "colab": {
      "name": "Polynomial Ridge Regression.ipynb",
      "provenance": [],
      "collapsed_sections": []
    },
    "kernelspec": {
      "name": "python3",
      "display_name": "Python 3"
    }
  },
  "cells": [
    {
      "cell_type": "code",
      "metadata": {
        "colab": {
          "base_uri": "https://localhost:8080/"
        },
        "id": "ZM7pCY8U7P2T",
        "outputId": "5cf7cea0-e936-448f-f5b8-eff1ad2c5ae7"
      },
      "source": [
        "!pip install -U --pre tensorflow==\"2.*\"\n",
        "!pip install tf_slim"
      ],
      "execution_count": 1,
      "outputs": [
        {
          "output_type": "stream",
          "text": [
            "Requirement already up-to-date: tensorflow==2.* in /usr/local/lib/python3.6/dist-packages (2.4.0rc1)\n",
            "Requirement already satisfied, skipping upgrade: absl-py~=0.10 in /usr/local/lib/python3.6/dist-packages (from tensorflow==2.*) (0.10.0)\n",
            "Requirement already satisfied, skipping upgrade: opt-einsum~=3.3.0 in /usr/local/lib/python3.6/dist-packages (from tensorflow==2.*) (3.3.0)\n",
            "Requirement already satisfied, skipping upgrade: termcolor~=1.1.0 in /usr/local/lib/python3.6/dist-packages (from tensorflow==2.*) (1.1.0)\n",
            "Requirement already satisfied, skipping upgrade: h5py~=2.10.0 in /usr/local/lib/python3.6/dist-packages (from tensorflow==2.*) (2.10.0)\n",
            "Requirement already satisfied, skipping upgrade: keras-preprocessing~=1.1.2 in /usr/local/lib/python3.6/dist-packages (from tensorflow==2.*) (1.1.2)\n",
            "Requirement already satisfied, skipping upgrade: tensorboard~=2.3 in /usr/local/lib/python3.6/dist-packages (from tensorflow==2.*) (2.3.0)\n",
            "Requirement already satisfied, skipping upgrade: protobuf~=3.13.0 in /usr/local/lib/python3.6/dist-packages (from tensorflow==2.*) (3.13.0)\n",
            "Requirement already satisfied, skipping upgrade: wrapt~=1.12.1 in /usr/local/lib/python3.6/dist-packages (from tensorflow==2.*) (1.12.1)\n",
            "Requirement already satisfied, skipping upgrade: google-pasta~=0.2 in /usr/local/lib/python3.6/dist-packages (from tensorflow==2.*) (0.2.0)\n",
            "Requirement already satisfied, skipping upgrade: grpcio~=1.32.0 in /usr/local/lib/python3.6/dist-packages (from tensorflow==2.*) (1.32.0)\n",
            "Requirement already satisfied, skipping upgrade: flatbuffers~=1.12.0 in /usr/local/lib/python3.6/dist-packages (from tensorflow==2.*) (1.12)\n",
            "Requirement already satisfied, skipping upgrade: gast==0.3.3 in /usr/local/lib/python3.6/dist-packages (from tensorflow==2.*) (0.3.3)\n",
            "Requirement already satisfied, skipping upgrade: numpy~=1.19.2 in /usr/local/lib/python3.6/dist-packages (from tensorflow==2.*) (1.19.4)\n",
            "Requirement already satisfied, skipping upgrade: typing-extensions~=3.7.4 in /usr/local/lib/python3.6/dist-packages (from tensorflow==2.*) (3.7.4.3)\n",
            "Requirement already satisfied, skipping upgrade: astunparse~=1.6.3 in /usr/local/lib/python3.6/dist-packages (from tensorflow==2.*) (1.6.3)\n",
            "Requirement already satisfied, skipping upgrade: wheel~=0.35 in /usr/local/lib/python3.6/dist-packages (from tensorflow==2.*) (0.35.1)\n",
            "Requirement already satisfied, skipping upgrade: tensorflow-estimator<2.5.0,>=2.4.0rc0 in /usr/local/lib/python3.6/dist-packages (from tensorflow==2.*) (2.4.0rc0)\n",
            "Requirement already satisfied, skipping upgrade: six~=1.15.0 in /usr/local/lib/python3.6/dist-packages (from tensorflow==2.*) (1.15.0)\n",
            "Requirement already satisfied, skipping upgrade: setuptools>=41.0.0 in /usr/local/lib/python3.6/dist-packages (from tensorboard~=2.3->tensorflow==2.*) (50.3.2)\n",
            "Requirement already satisfied, skipping upgrade: werkzeug>=0.11.15 in /usr/local/lib/python3.6/dist-packages (from tensorboard~=2.3->tensorflow==2.*) (1.0.1)\n",
            "Requirement already satisfied, skipping upgrade: requests<3,>=2.21.0 in /usr/local/lib/python3.6/dist-packages (from tensorboard~=2.3->tensorflow==2.*) (2.23.0)\n",
            "Requirement already satisfied, skipping upgrade: markdown>=2.6.8 in /usr/local/lib/python3.6/dist-packages (from tensorboard~=2.3->tensorflow==2.*) (3.3.3)\n",
            "Requirement already satisfied, skipping upgrade: tensorboard-plugin-wit>=1.6.0 in /usr/local/lib/python3.6/dist-packages (from tensorboard~=2.3->tensorflow==2.*) (1.7.0)\n",
            "Requirement already satisfied, skipping upgrade: google-auth<2,>=1.6.3 in /usr/local/lib/python3.6/dist-packages (from tensorboard~=2.3->tensorflow==2.*) (1.17.2)\n",
            "Requirement already satisfied, skipping upgrade: google-auth-oauthlib<0.5,>=0.4.1 in /usr/local/lib/python3.6/dist-packages (from tensorboard~=2.3->tensorflow==2.*) (0.4.2)\n",
            "Requirement already satisfied, skipping upgrade: urllib3!=1.25.0,!=1.25.1,<1.26,>=1.21.1 in /usr/local/lib/python3.6/dist-packages (from requests<3,>=2.21.0->tensorboard~=2.3->tensorflow==2.*) (1.24.3)\n",
            "Requirement already satisfied, skipping upgrade: certifi>=2017.4.17 in /usr/local/lib/python3.6/dist-packages (from requests<3,>=2.21.0->tensorboard~=2.3->tensorflow==2.*) (2020.6.20)\n",
            "Requirement already satisfied, skipping upgrade: chardet<4,>=3.0.2 in /usr/local/lib/python3.6/dist-packages (from requests<3,>=2.21.0->tensorboard~=2.3->tensorflow==2.*) (3.0.4)\n",
            "Requirement already satisfied, skipping upgrade: idna<3,>=2.5 in /usr/local/lib/python3.6/dist-packages (from requests<3,>=2.21.0->tensorboard~=2.3->tensorflow==2.*) (2.10)\n",
            "Requirement already satisfied, skipping upgrade: importlib-metadata; python_version < \"3.8\" in /usr/local/lib/python3.6/dist-packages (from markdown>=2.6.8->tensorboard~=2.3->tensorflow==2.*) (2.0.0)\n",
            "Requirement already satisfied, skipping upgrade: pyasn1-modules>=0.2.1 in /usr/local/lib/python3.6/dist-packages (from google-auth<2,>=1.6.3->tensorboard~=2.3->tensorflow==2.*) (0.2.8)\n",
            "Requirement already satisfied, skipping upgrade: cachetools<5.0,>=2.0.0 in /usr/local/lib/python3.6/dist-packages (from google-auth<2,>=1.6.3->tensorboard~=2.3->tensorflow==2.*) (4.1.1)\n",
            "Requirement already satisfied, skipping upgrade: rsa<5,>=3.1.4; python_version >= \"3\" in /usr/local/lib/python3.6/dist-packages (from google-auth<2,>=1.6.3->tensorboard~=2.3->tensorflow==2.*) (4.6)\n",
            "Requirement already satisfied, skipping upgrade: requests-oauthlib>=0.7.0 in /usr/local/lib/python3.6/dist-packages (from google-auth-oauthlib<0.5,>=0.4.1->tensorboard~=2.3->tensorflow==2.*) (1.3.0)\n",
            "Requirement already satisfied, skipping upgrade: zipp>=0.5 in /usr/local/lib/python3.6/dist-packages (from importlib-metadata; python_version < \"3.8\"->markdown>=2.6.8->tensorboard~=2.3->tensorflow==2.*) (3.4.0)\n",
            "Requirement already satisfied, skipping upgrade: pyasn1<0.5.0,>=0.4.6 in /usr/local/lib/python3.6/dist-packages (from pyasn1-modules>=0.2.1->google-auth<2,>=1.6.3->tensorboard~=2.3->tensorflow==2.*) (0.4.8)\n",
            "Requirement already satisfied, skipping upgrade: oauthlib>=3.0.0 in /usr/local/lib/python3.6/dist-packages (from requests-oauthlib>=0.7.0->google-auth-oauthlib<0.5,>=0.4.1->tensorboard~=2.3->tensorflow==2.*) (3.1.0)\n",
            "Requirement already satisfied: tf_slim in /usr/local/lib/python3.6/dist-packages (1.1.0)\n",
            "Requirement already satisfied: absl-py>=0.2.2 in /usr/local/lib/python3.6/dist-packages (from tf_slim) (0.10.0)\n",
            "Requirement already satisfied: six in /usr/local/lib/python3.6/dist-packages (from absl-py>=0.2.2->tf_slim) (1.15.0)\n"
          ],
          "name": "stdout"
        }
      ]
    },
    {
      "cell_type": "code",
      "metadata": {
        "id": "11b9Ggy864-x"
      },
      "source": [
        "import os\n",
        "import pathlib\n",
        "\n",
        "if \"ML-From-Scratch\" in pathlib.Path.cwd().parts:\n",
        "  while \"ML-From-Scratch\" in pathlib.Path.cwd().parts:\n",
        "    os.chdir('..')\n",
        "elif not pathlib.Path('ML-From-Scratch').exists():\n",
        "  !git clone --depth 1 https://github.com/eriklindernoren/ML-From-Scratch\n"
      ],
      "execution_count": 2,
      "outputs": []
    },
    {
      "cell_type": "code",
      "metadata": {
        "colab": {
          "base_uri": "https://localhost:8080/"
        },
        "id": "vNqckwzA8N2-",
        "outputId": "0f6dd062-b067-4d2c-ab50-e0f87a22b3ee"
      },
      "source": [
        "cd ML-From-Scratch"
      ],
      "execution_count": 3,
      "outputs": [
        {
          "output_type": "stream",
          "text": [
            "/content/ML-From-Scratch\n"
          ],
          "name": "stdout"
        }
      ]
    },
    {
      "cell_type": "code",
      "metadata": {
        "colab": {
          "base_uri": "https://localhost:8080/"
        },
        "id": "LEwUtUY78aQd",
        "outputId": "791ab5ab-5281-4dfa-b04f-6eab455c6cbb"
      },
      "source": [
        "!python setup.py install"
      ],
      "execution_count": 4,
      "outputs": [
        {
          "output_type": "stream",
          "text": [
            "running install\n",
            "running bdist_egg\n",
            "running egg_info\n",
            "writing mlfromscratch.egg-info/PKG-INFO\n",
            "writing dependency_links to mlfromscratch.egg-info/dependency_links.txt\n",
            "writing requirements to mlfromscratch.egg-info/requires.txt\n",
            "writing top-level names to mlfromscratch.egg-info/top_level.txt\n",
            "reading manifest template 'MANIFEST.in'\n",
            "warning: no files found matching '*' under directory 'mlfs.data'\n",
            "writing manifest file 'mlfromscratch.egg-info/SOURCES.txt'\n",
            "installing library code to build/bdist.linux-x86_64/egg\n",
            "running install_lib\n",
            "running build_py\n",
            "creating build/bdist.linux-x86_64/egg\n",
            "creating build/bdist.linux-x86_64/egg/mlfromscratch\n",
            "creating build/bdist.linux-x86_64/egg/mlfromscratch/supervised_learning\n",
            "copying build/lib/mlfromscratch/supervised_learning/particle_swarm_optimization.py -> build/bdist.linux-x86_64/egg/mlfromscratch/supervised_learning\n",
            "copying build/lib/mlfromscratch/supervised_learning/gradient_boosting.py -> build/bdist.linux-x86_64/egg/mlfromscratch/supervised_learning\n",
            "copying build/lib/mlfromscratch/supervised_learning/__init__.py -> build/bdist.linux-x86_64/egg/mlfromscratch/supervised_learning\n",
            "copying build/lib/mlfromscratch/supervised_learning/bayesian_regression.py -> build/bdist.linux-x86_64/egg/mlfromscratch/supervised_learning\n",
            "copying build/lib/mlfromscratch/supervised_learning/support_vector_machine.py -> build/bdist.linux-x86_64/egg/mlfromscratch/supervised_learning\n",
            "copying build/lib/mlfromscratch/supervised_learning/adaboost.py -> build/bdist.linux-x86_64/egg/mlfromscratch/supervised_learning\n",
            "copying build/lib/mlfromscratch/supervised_learning/regression.py -> build/bdist.linux-x86_64/egg/mlfromscratch/supervised_learning\n",
            "copying build/lib/mlfromscratch/supervised_learning/xgboost.py -> build/bdist.linux-x86_64/egg/mlfromscratch/supervised_learning\n",
            "copying build/lib/mlfromscratch/supervised_learning/multilayer_perceptron.py -> build/bdist.linux-x86_64/egg/mlfromscratch/supervised_learning\n",
            "copying build/lib/mlfromscratch/supervised_learning/decision_tree.py -> build/bdist.linux-x86_64/egg/mlfromscratch/supervised_learning\n",
            "copying build/lib/mlfromscratch/supervised_learning/linear_discriminant_analysis.py -> build/bdist.linux-x86_64/egg/mlfromscratch/supervised_learning\n",
            "copying build/lib/mlfromscratch/supervised_learning/neuroevolution.py -> build/bdist.linux-x86_64/egg/mlfromscratch/supervised_learning\n",
            "copying build/lib/mlfromscratch/supervised_learning/logistic_regression.py -> build/bdist.linux-x86_64/egg/mlfromscratch/supervised_learning\n",
            "copying build/lib/mlfromscratch/supervised_learning/multi_class_lda.py -> build/bdist.linux-x86_64/egg/mlfromscratch/supervised_learning\n",
            "copying build/lib/mlfromscratch/supervised_learning/naive_bayes.py -> build/bdist.linux-x86_64/egg/mlfromscratch/supervised_learning\n",
            "copying build/lib/mlfromscratch/supervised_learning/perceptron.py -> build/bdist.linux-x86_64/egg/mlfromscratch/supervised_learning\n",
            "copying build/lib/mlfromscratch/supervised_learning/random_forest.py -> build/bdist.linux-x86_64/egg/mlfromscratch/supervised_learning\n",
            "copying build/lib/mlfromscratch/supervised_learning/k_nearest_neighbors.py -> build/bdist.linux-x86_64/egg/mlfromscratch/supervised_learning\n",
            "creating build/bdist.linux-x86_64/egg/mlfromscratch/deep_learning\n",
            "copying build/lib/mlfromscratch/deep_learning/activation_functions.py -> build/bdist.linux-x86_64/egg/mlfromscratch/deep_learning\n",
            "copying build/lib/mlfromscratch/deep_learning/__init__.py -> build/bdist.linux-x86_64/egg/mlfromscratch/deep_learning\n",
            "copying build/lib/mlfromscratch/deep_learning/neural_network.py -> build/bdist.linux-x86_64/egg/mlfromscratch/deep_learning\n",
            "copying build/lib/mlfromscratch/deep_learning/optimizers.py -> build/bdist.linux-x86_64/egg/mlfromscratch/deep_learning\n",
            "copying build/lib/mlfromscratch/deep_learning/layers.py -> build/bdist.linux-x86_64/egg/mlfromscratch/deep_learning\n",
            "copying build/lib/mlfromscratch/deep_learning/loss_functions.py -> build/bdist.linux-x86_64/egg/mlfromscratch/deep_learning\n",
            "copying build/lib/mlfromscratch/__init__.py -> build/bdist.linux-x86_64/egg/mlfromscratch\n",
            "creating build/bdist.linux-x86_64/egg/mlfromscratch/unsupervised_learning\n",
            "copying build/lib/mlfromscratch/unsupervised_learning/generative_adversarial_network.py -> build/bdist.linux-x86_64/egg/mlfromscratch/unsupervised_learning\n",
            "copying build/lib/mlfromscratch/unsupervised_learning/gaussian_mixture_model.py -> build/bdist.linux-x86_64/egg/mlfromscratch/unsupervised_learning\n",
            "copying build/lib/mlfromscratch/unsupervised_learning/__init__.py -> build/bdist.linux-x86_64/egg/mlfromscratch/unsupervised_learning\n",
            "copying build/lib/mlfromscratch/unsupervised_learning/principal_component_analysis.py -> build/bdist.linux-x86_64/egg/mlfromscratch/unsupervised_learning\n",
            "copying build/lib/mlfromscratch/unsupervised_learning/genetic_algorithm.py -> build/bdist.linux-x86_64/egg/mlfromscratch/unsupervised_learning\n",
            "copying build/lib/mlfromscratch/unsupervised_learning/apriori.py -> build/bdist.linux-x86_64/egg/mlfromscratch/unsupervised_learning\n",
            "copying build/lib/mlfromscratch/unsupervised_learning/restricted_boltzmann_machine.py -> build/bdist.linux-x86_64/egg/mlfromscratch/unsupervised_learning\n",
            "copying build/lib/mlfromscratch/unsupervised_learning/autoencoder.py -> build/bdist.linux-x86_64/egg/mlfromscratch/unsupervised_learning\n",
            "copying build/lib/mlfromscratch/unsupervised_learning/k_means.py -> build/bdist.linux-x86_64/egg/mlfromscratch/unsupervised_learning\n",
            "copying build/lib/mlfromscratch/unsupervised_learning/fp_growth.py -> build/bdist.linux-x86_64/egg/mlfromscratch/unsupervised_learning\n",
            "copying build/lib/mlfromscratch/unsupervised_learning/dbscan.py -> build/bdist.linux-x86_64/egg/mlfromscratch/unsupervised_learning\n",
            "copying build/lib/mlfromscratch/unsupervised_learning/partitioning_around_medoids.py -> build/bdist.linux-x86_64/egg/mlfromscratch/unsupervised_learning\n",
            "copying build/lib/mlfromscratch/unsupervised_learning/dcgan.py -> build/bdist.linux-x86_64/egg/mlfromscratch/unsupervised_learning\n",
            "creating build/bdist.linux-x86_64/egg/mlfromscratch/data\n",
            "copying build/lib/mlfromscratch/data/TempLinkoping2016.txt -> build/bdist.linux-x86_64/egg/mlfromscratch/data\n",
            "creating build/bdist.linux-x86_64/egg/mlfromscratch/examples\n",
            "copying build/lib/mlfromscratch/examples/particle_swarm_optimization.py -> build/bdist.linux-x86_64/egg/mlfromscratch/examples\n",
            "copying build/lib/mlfromscratch/examples/gradient_boosting_classifier.py -> build/bdist.linux-x86_64/egg/mlfromscratch/examples\n",
            "copying build/lib/mlfromscratch/examples/polynomial_regression.py -> build/bdist.linux-x86_64/egg/mlfromscratch/examples\n",
            "copying build/lib/mlfromscratch/examples/gaussian_mixture_model.py -> build/bdist.linux-x86_64/egg/mlfromscratch/examples\n",
            "copying build/lib/mlfromscratch/examples/ridge_regression.py -> build/bdist.linux-x86_64/egg/mlfromscratch/examples\n",
            "copying build/lib/mlfromscratch/examples/principal_component_analysis.py -> build/bdist.linux-x86_64/egg/mlfromscratch/examples\n",
            "copying build/lib/mlfromscratch/examples/genetic_algorithm.py -> build/bdist.linux-x86_64/egg/mlfromscratch/examples\n",
            "copying build/lib/mlfromscratch/examples/bayesian_regression.py -> build/bdist.linux-x86_64/egg/mlfromscratch/examples\n",
            "copying build/lib/mlfromscratch/examples/recurrent_neural_network.py -> build/bdist.linux-x86_64/egg/mlfromscratch/examples\n",
            "copying build/lib/mlfromscratch/examples/support_vector_machine.py -> build/bdist.linux-x86_64/egg/mlfromscratch/examples\n",
            "copying build/lib/mlfromscratch/examples/gradient_boosting_regressor.py -> build/bdist.linux-x86_64/egg/mlfromscratch/examples\n",
            "copying build/lib/mlfromscratch/examples/adaboost.py -> build/bdist.linux-x86_64/egg/mlfromscratch/examples\n",
            "copying build/lib/mlfromscratch/examples/elastic_net.py -> build/bdist.linux-x86_64/egg/mlfromscratch/examples\n",
            "copying build/lib/mlfromscratch/examples/xgboost.py -> build/bdist.linux-x86_64/egg/mlfromscratch/examples\n",
            "copying build/lib/mlfromscratch/examples/deep_q_network.py -> build/bdist.linux-x86_64/egg/mlfromscratch/examples\n",
            "copying build/lib/mlfromscratch/examples/apriori.py -> build/bdist.linux-x86_64/egg/mlfromscratch/examples\n",
            "copying build/lib/mlfromscratch/examples/restricted_boltzmann_machine.py -> build/bdist.linux-x86_64/egg/mlfromscratch/examples\n",
            "copying build/lib/mlfromscratch/examples/multilayer_perceptron.py -> build/bdist.linux-x86_64/egg/mlfromscratch/examples\n",
            "copying build/lib/mlfromscratch/examples/convolutional_neural_network.py -> build/bdist.linux-x86_64/egg/mlfromscratch/examples\n",
            "copying build/lib/mlfromscratch/examples/linear_regression.py -> build/bdist.linux-x86_64/egg/mlfromscratch/examples\n",
            "copying build/lib/mlfromscratch/examples/k_means.py -> build/bdist.linux-x86_64/egg/mlfromscratch/examples\n",
            "copying build/lib/mlfromscratch/examples/fp_growth.py -> build/bdist.linux-x86_64/egg/mlfromscratch/examples\n",
            "copying build/lib/mlfromscratch/examples/dbscan.py -> build/bdist.linux-x86_64/egg/mlfromscratch/examples\n",
            "copying build/lib/mlfromscratch/examples/linear_discriminant_analysis.py -> build/bdist.linux-x86_64/egg/mlfromscratch/examples\n",
            "copying build/lib/mlfromscratch/examples/demo.py -> build/bdist.linux-x86_64/egg/mlfromscratch/examples\n",
            "copying build/lib/mlfromscratch/examples/decision_tree_regressor.py -> build/bdist.linux-x86_64/egg/mlfromscratch/examples\n",
            "copying build/lib/mlfromscratch/examples/partitioning_around_medoids.py -> build/bdist.linux-x86_64/egg/mlfromscratch/examples\n",
            "copying build/lib/mlfromscratch/examples/neuroevolution.py -> build/bdist.linux-x86_64/egg/mlfromscratch/examples\n",
            "copying build/lib/mlfromscratch/examples/logistic_regression.py -> build/bdist.linux-x86_64/egg/mlfromscratch/examples\n",
            "copying build/lib/mlfromscratch/examples/multi_class_lda.py -> build/bdist.linux-x86_64/egg/mlfromscratch/examples\n",
            "copying build/lib/mlfromscratch/examples/naive_bayes.py -> build/bdist.linux-x86_64/egg/mlfromscratch/examples\n",
            "copying build/lib/mlfromscratch/examples/perceptron.py -> build/bdist.linux-x86_64/egg/mlfromscratch/examples\n",
            "copying build/lib/mlfromscratch/examples/random_forest.py -> build/bdist.linux-x86_64/egg/mlfromscratch/examples\n",
            "copying build/lib/mlfromscratch/examples/decision_tree_classifier.py -> build/bdist.linux-x86_64/egg/mlfromscratch/examples\n",
            "copying build/lib/mlfromscratch/examples/lasso_regression.py -> build/bdist.linux-x86_64/egg/mlfromscratch/examples\n",
            "copying build/lib/mlfromscratch/examples/k_nearest_neighbors.py -> build/bdist.linux-x86_64/egg/mlfromscratch/examples\n",
            "creating build/bdist.linux-x86_64/egg/mlfromscratch/utils\n",
            "copying build/lib/mlfromscratch/utils/__init__.py -> build/bdist.linux-x86_64/egg/mlfromscratch/utils\n",
            "copying build/lib/mlfromscratch/utils/kernels.py -> build/bdist.linux-x86_64/egg/mlfromscratch/utils\n",
            "copying build/lib/mlfromscratch/utils/data_manipulation.py -> build/bdist.linux-x86_64/egg/mlfromscratch/utils\n",
            "copying build/lib/mlfromscratch/utils/misc.py -> build/bdist.linux-x86_64/egg/mlfromscratch/utils\n",
            "copying build/lib/mlfromscratch/utils/data_operation.py -> build/bdist.linux-x86_64/egg/mlfromscratch/utils\n",
            "creating build/bdist.linux-x86_64/egg/mlfromscratch/reinforcement_learning\n",
            "copying build/lib/mlfromscratch/reinforcement_learning/__init__.py -> build/bdist.linux-x86_64/egg/mlfromscratch/reinforcement_learning\n",
            "copying build/lib/mlfromscratch/reinforcement_learning/deep_q_network.py -> build/bdist.linux-x86_64/egg/mlfromscratch/reinforcement_learning\n",
            "byte-compiling build/bdist.linux-x86_64/egg/mlfromscratch/supervised_learning/particle_swarm_optimization.py to particle_swarm_optimization.cpython-36.pyc\n",
            "byte-compiling build/bdist.linux-x86_64/egg/mlfromscratch/supervised_learning/gradient_boosting.py to gradient_boosting.cpython-36.pyc\n",
            "byte-compiling build/bdist.linux-x86_64/egg/mlfromscratch/supervised_learning/__init__.py to __init__.cpython-36.pyc\n",
            "byte-compiling build/bdist.linux-x86_64/egg/mlfromscratch/supervised_learning/bayesian_regression.py to bayesian_regression.cpython-36.pyc\n",
            "byte-compiling build/bdist.linux-x86_64/egg/mlfromscratch/supervised_learning/support_vector_machine.py to support_vector_machine.cpython-36.pyc\n",
            "byte-compiling build/bdist.linux-x86_64/egg/mlfromscratch/supervised_learning/adaboost.py to adaboost.cpython-36.pyc\n",
            "byte-compiling build/bdist.linux-x86_64/egg/mlfromscratch/supervised_learning/regression.py to regression.cpython-36.pyc\n",
            "byte-compiling build/bdist.linux-x86_64/egg/mlfromscratch/supervised_learning/xgboost.py to xgboost.cpython-36.pyc\n",
            "byte-compiling build/bdist.linux-x86_64/egg/mlfromscratch/supervised_learning/multilayer_perceptron.py to multilayer_perceptron.cpython-36.pyc\n",
            "byte-compiling build/bdist.linux-x86_64/egg/mlfromscratch/supervised_learning/decision_tree.py to decision_tree.cpython-36.pyc\n",
            "byte-compiling build/bdist.linux-x86_64/egg/mlfromscratch/supervised_learning/linear_discriminant_analysis.py to linear_discriminant_analysis.cpython-36.pyc\n",
            "byte-compiling build/bdist.linux-x86_64/egg/mlfromscratch/supervised_learning/neuroevolution.py to neuroevolution.cpython-36.pyc\n",
            "byte-compiling build/bdist.linux-x86_64/egg/mlfromscratch/supervised_learning/logistic_regression.py to logistic_regression.cpython-36.pyc\n",
            "byte-compiling build/bdist.linux-x86_64/egg/mlfromscratch/supervised_learning/multi_class_lda.py to multi_class_lda.cpython-36.pyc\n",
            "byte-compiling build/bdist.linux-x86_64/egg/mlfromscratch/supervised_learning/naive_bayes.py to naive_bayes.cpython-36.pyc\n",
            "byte-compiling build/bdist.linux-x86_64/egg/mlfromscratch/supervised_learning/perceptron.py to perceptron.cpython-36.pyc\n",
            "byte-compiling build/bdist.linux-x86_64/egg/mlfromscratch/supervised_learning/random_forest.py to random_forest.cpython-36.pyc\n",
            "byte-compiling build/bdist.linux-x86_64/egg/mlfromscratch/supervised_learning/k_nearest_neighbors.py to k_nearest_neighbors.cpython-36.pyc\n",
            "byte-compiling build/bdist.linux-x86_64/egg/mlfromscratch/deep_learning/activation_functions.py to activation_functions.cpython-36.pyc\n",
            "byte-compiling build/bdist.linux-x86_64/egg/mlfromscratch/deep_learning/__init__.py to __init__.cpython-36.pyc\n",
            "byte-compiling build/bdist.linux-x86_64/egg/mlfromscratch/deep_learning/neural_network.py to neural_network.cpython-36.pyc\n",
            "byte-compiling build/bdist.linux-x86_64/egg/mlfromscratch/deep_learning/optimizers.py to optimizers.cpython-36.pyc\n",
            "byte-compiling build/bdist.linux-x86_64/egg/mlfromscratch/deep_learning/layers.py to layers.cpython-36.pyc\n",
            "byte-compiling build/bdist.linux-x86_64/egg/mlfromscratch/deep_learning/loss_functions.py to loss_functions.cpython-36.pyc\n",
            "byte-compiling build/bdist.linux-x86_64/egg/mlfromscratch/__init__.py to __init__.cpython-36.pyc\n",
            "byte-compiling build/bdist.linux-x86_64/egg/mlfromscratch/unsupervised_learning/generative_adversarial_network.py to generative_adversarial_network.cpython-36.pyc\n",
            "byte-compiling build/bdist.linux-x86_64/egg/mlfromscratch/unsupervised_learning/gaussian_mixture_model.py to gaussian_mixture_model.cpython-36.pyc\n",
            "byte-compiling build/bdist.linux-x86_64/egg/mlfromscratch/unsupervised_learning/__init__.py to __init__.cpython-36.pyc\n",
            "byte-compiling build/bdist.linux-x86_64/egg/mlfromscratch/unsupervised_learning/principal_component_analysis.py to principal_component_analysis.cpython-36.pyc\n",
            "byte-compiling build/bdist.linux-x86_64/egg/mlfromscratch/unsupervised_learning/genetic_algorithm.py to genetic_algorithm.cpython-36.pyc\n",
            "byte-compiling build/bdist.linux-x86_64/egg/mlfromscratch/unsupervised_learning/apriori.py to apriori.cpython-36.pyc\n",
            "byte-compiling build/bdist.linux-x86_64/egg/mlfromscratch/unsupervised_learning/restricted_boltzmann_machine.py to restricted_boltzmann_machine.cpython-36.pyc\n",
            "byte-compiling build/bdist.linux-x86_64/egg/mlfromscratch/unsupervised_learning/autoencoder.py to autoencoder.cpython-36.pyc\n",
            "byte-compiling build/bdist.linux-x86_64/egg/mlfromscratch/unsupervised_learning/k_means.py to k_means.cpython-36.pyc\n",
            "byte-compiling build/bdist.linux-x86_64/egg/mlfromscratch/unsupervised_learning/fp_growth.py to fp_growth.cpython-36.pyc\n",
            "byte-compiling build/bdist.linux-x86_64/egg/mlfromscratch/unsupervised_learning/dbscan.py to dbscan.cpython-36.pyc\n",
            "byte-compiling build/bdist.linux-x86_64/egg/mlfromscratch/unsupervised_learning/partitioning_around_medoids.py to partitioning_around_medoids.cpython-36.pyc\n",
            "byte-compiling build/bdist.linux-x86_64/egg/mlfromscratch/unsupervised_learning/dcgan.py to dcgan.cpython-36.pyc\n",
            "byte-compiling build/bdist.linux-x86_64/egg/mlfromscratch/examples/particle_swarm_optimization.py to particle_swarm_optimization.cpython-36.pyc\n",
            "byte-compiling build/bdist.linux-x86_64/egg/mlfromscratch/examples/gradient_boosting_classifier.py to gradient_boosting_classifier.cpython-36.pyc\n",
            "byte-compiling build/bdist.linux-x86_64/egg/mlfromscratch/examples/polynomial_regression.py to polynomial_regression.cpython-36.pyc\n",
            "byte-compiling build/bdist.linux-x86_64/egg/mlfromscratch/examples/gaussian_mixture_model.py to gaussian_mixture_model.cpython-36.pyc\n",
            "byte-compiling build/bdist.linux-x86_64/egg/mlfromscratch/examples/ridge_regression.py to ridge_regression.cpython-36.pyc\n",
            "byte-compiling build/bdist.linux-x86_64/egg/mlfromscratch/examples/principal_component_analysis.py to principal_component_analysis.cpython-36.pyc\n",
            "byte-compiling build/bdist.linux-x86_64/egg/mlfromscratch/examples/genetic_algorithm.py to genetic_algorithm.cpython-36.pyc\n",
            "byte-compiling build/bdist.linux-x86_64/egg/mlfromscratch/examples/bayesian_regression.py to bayesian_regression.cpython-36.pyc\n",
            "byte-compiling build/bdist.linux-x86_64/egg/mlfromscratch/examples/recurrent_neural_network.py to recurrent_neural_network.cpython-36.pyc\n",
            "byte-compiling build/bdist.linux-x86_64/egg/mlfromscratch/examples/support_vector_machine.py to support_vector_machine.cpython-36.pyc\n",
            "byte-compiling build/bdist.linux-x86_64/egg/mlfromscratch/examples/gradient_boosting_regressor.py to gradient_boosting_regressor.cpython-36.pyc\n",
            "byte-compiling build/bdist.linux-x86_64/egg/mlfromscratch/examples/adaboost.py to adaboost.cpython-36.pyc\n",
            "byte-compiling build/bdist.linux-x86_64/egg/mlfromscratch/examples/elastic_net.py to elastic_net.cpython-36.pyc\n",
            "byte-compiling build/bdist.linux-x86_64/egg/mlfromscratch/examples/xgboost.py to xgboost.cpython-36.pyc\n",
            "byte-compiling build/bdist.linux-x86_64/egg/mlfromscratch/examples/deep_q_network.py to deep_q_network.cpython-36.pyc\n",
            "byte-compiling build/bdist.linux-x86_64/egg/mlfromscratch/examples/apriori.py to apriori.cpython-36.pyc\n",
            "byte-compiling build/bdist.linux-x86_64/egg/mlfromscratch/examples/restricted_boltzmann_machine.py to restricted_boltzmann_machine.cpython-36.pyc\n",
            "byte-compiling build/bdist.linux-x86_64/egg/mlfromscratch/examples/multilayer_perceptron.py to multilayer_perceptron.cpython-36.pyc\n",
            "byte-compiling build/bdist.linux-x86_64/egg/mlfromscratch/examples/convolutional_neural_network.py to convolutional_neural_network.cpython-36.pyc\n",
            "byte-compiling build/bdist.linux-x86_64/egg/mlfromscratch/examples/linear_regression.py to linear_regression.cpython-36.pyc\n",
            "byte-compiling build/bdist.linux-x86_64/egg/mlfromscratch/examples/k_means.py to k_means.cpython-36.pyc\n",
            "byte-compiling build/bdist.linux-x86_64/egg/mlfromscratch/examples/fp_growth.py to fp_growth.cpython-36.pyc\n",
            "byte-compiling build/bdist.linux-x86_64/egg/mlfromscratch/examples/dbscan.py to dbscan.cpython-36.pyc\n",
            "byte-compiling build/bdist.linux-x86_64/egg/mlfromscratch/examples/linear_discriminant_analysis.py to linear_discriminant_analysis.cpython-36.pyc\n",
            "byte-compiling build/bdist.linux-x86_64/egg/mlfromscratch/examples/demo.py to demo.cpython-36.pyc\n",
            "byte-compiling build/bdist.linux-x86_64/egg/mlfromscratch/examples/decision_tree_regressor.py to decision_tree_regressor.cpython-36.pyc\n",
            "byte-compiling build/bdist.linux-x86_64/egg/mlfromscratch/examples/partitioning_around_medoids.py to partitioning_around_medoids.cpython-36.pyc\n",
            "byte-compiling build/bdist.linux-x86_64/egg/mlfromscratch/examples/neuroevolution.py to neuroevolution.cpython-36.pyc\n",
            "byte-compiling build/bdist.linux-x86_64/egg/mlfromscratch/examples/logistic_regression.py to logistic_regression.cpython-36.pyc\n",
            "byte-compiling build/bdist.linux-x86_64/egg/mlfromscratch/examples/multi_class_lda.py to multi_class_lda.cpython-36.pyc\n",
            "byte-compiling build/bdist.linux-x86_64/egg/mlfromscratch/examples/naive_bayes.py to naive_bayes.cpython-36.pyc\n",
            "byte-compiling build/bdist.linux-x86_64/egg/mlfromscratch/examples/perceptron.py to perceptron.cpython-36.pyc\n",
            "byte-compiling build/bdist.linux-x86_64/egg/mlfromscratch/examples/random_forest.py to random_forest.cpython-36.pyc\n",
            "byte-compiling build/bdist.linux-x86_64/egg/mlfromscratch/examples/decision_tree_classifier.py to decision_tree_classifier.cpython-36.pyc\n",
            "byte-compiling build/bdist.linux-x86_64/egg/mlfromscratch/examples/lasso_regression.py to lasso_regression.cpython-36.pyc\n",
            "byte-compiling build/bdist.linux-x86_64/egg/mlfromscratch/examples/k_nearest_neighbors.py to k_nearest_neighbors.cpython-36.pyc\n",
            "byte-compiling build/bdist.linux-x86_64/egg/mlfromscratch/utils/__init__.py to __init__.cpython-36.pyc\n",
            "byte-compiling build/bdist.linux-x86_64/egg/mlfromscratch/utils/kernels.py to kernels.cpython-36.pyc\n",
            "byte-compiling build/bdist.linux-x86_64/egg/mlfromscratch/utils/data_manipulation.py to data_manipulation.cpython-36.pyc\n",
            "byte-compiling build/bdist.linux-x86_64/egg/mlfromscratch/utils/misc.py to misc.cpython-36.pyc\n",
            "byte-compiling build/bdist.linux-x86_64/egg/mlfromscratch/utils/data_operation.py to data_operation.cpython-36.pyc\n",
            "byte-compiling build/bdist.linux-x86_64/egg/mlfromscratch/reinforcement_learning/__init__.py to __init__.cpython-36.pyc\n",
            "byte-compiling build/bdist.linux-x86_64/egg/mlfromscratch/reinforcement_learning/deep_q_network.py to deep_q_network.cpython-36.pyc\n",
            "creating build/bdist.linux-x86_64/egg/EGG-INFO\n",
            "copying mlfromscratch.egg-info/PKG-INFO -> build/bdist.linux-x86_64/egg/EGG-INFO\n",
            "copying mlfromscratch.egg-info/SOURCES.txt -> build/bdist.linux-x86_64/egg/EGG-INFO\n",
            "copying mlfromscratch.egg-info/dependency_links.txt -> build/bdist.linux-x86_64/egg/EGG-INFO\n",
            "copying mlfromscratch.egg-info/requires.txt -> build/bdist.linux-x86_64/egg/EGG-INFO\n",
            "copying mlfromscratch.egg-info/top_level.txt -> build/bdist.linux-x86_64/egg/EGG-INFO\n",
            "zip_safe flag not set; analyzing archive contents...\n",
            "creating 'dist/mlfromscratch-0.0.4-py3.6.egg' and adding 'build/bdist.linux-x86_64/egg' to it\n",
            "removing 'build/bdist.linux-x86_64/egg' (and everything under it)\n",
            "Processing mlfromscratch-0.0.4-py3.6.egg\n",
            "Removing /usr/local/lib/python3.6/dist-packages/mlfromscratch-0.0.4-py3.6.egg\n",
            "Copying mlfromscratch-0.0.4-py3.6.egg to /usr/local/lib/python3.6/dist-packages\n",
            "mlfromscratch 0.0.4 is already the active version in easy-install.pth\n",
            "\n",
            "Installed /usr/local/lib/python3.6/dist-packages/mlfromscratch-0.0.4-py3.6.egg\n",
            "Processing dependencies for mlfromscratch==0.0.4\n",
            "Searching for gym==0.17.3\n",
            "Best match: gym 0.17.3\n",
            "Adding gym 0.17.3 to easy-install.pth file\n",
            "\n",
            "Using /usr/local/lib/python3.6/dist-packages\n",
            "Searching for terminaltables==3.1.0\n",
            "Best match: terminaltables 3.1.0\n",
            "Processing terminaltables-3.1.0-py3.6.egg\n",
            "terminaltables 3.1.0 is already the active version in easy-install.pth\n",
            "\n",
            "Using /usr/local/lib/python3.6/dist-packages/terminaltables-3.1.0-py3.6.egg\n",
            "Searching for progressbar33==2.4\n",
            "Best match: progressbar33 2.4\n",
            "Processing progressbar33-2.4-py3.6.egg\n",
            "progressbar33 2.4 is already the active version in easy-install.pth\n",
            "\n",
            "Using /usr/local/lib/python3.6/dist-packages/progressbar33-2.4-py3.6.egg\n",
            "Searching for scipy==1.4.1\n",
            "Best match: scipy 1.4.1\n",
            "Adding scipy 1.4.1 to easy-install.pth file\n",
            "\n",
            "Using /usr/local/lib/python3.6/dist-packages\n",
            "Searching for cvxopt==1.2.5\n",
            "Best match: cvxopt 1.2.5\n",
            "Adding cvxopt 1.2.5 to easy-install.pth file\n",
            "\n",
            "Using /usr/local/lib/python3.6/dist-packages\n",
            "Searching for pandas==1.1.4\n",
            "Best match: pandas 1.1.4\n",
            "Adding pandas 1.1.4 to easy-install.pth file\n",
            "\n",
            "Using /usr/local/lib/python3.6/dist-packages\n",
            "Searching for sklearn==0.0\n",
            "Best match: sklearn 0.0\n",
            "Adding sklearn 0.0 to easy-install.pth file\n",
            "\n",
            "Using /usr/local/lib/python3.6/dist-packages\n",
            "Searching for numpy==1.19.4\n",
            "Best match: numpy 1.19.4\n",
            "Adding numpy 1.19.4 to easy-install.pth file\n",
            "Installing f2py script to /usr/local/bin\n",
            "Installing f2py3 script to /usr/local/bin\n",
            "Installing f2py3.6 script to /usr/local/bin\n",
            "\n",
            "Using /usr/local/lib/python3.6/dist-packages\n",
            "Searching for matplotlib==3.2.2\n",
            "Best match: matplotlib 3.2.2\n",
            "Adding matplotlib 3.2.2 to easy-install.pth file\n",
            "\n",
            "Using /usr/local/lib/python3.6/dist-packages\n",
            "Searching for cloudpickle==1.3.0\n",
            "Best match: cloudpickle 1.3.0\n",
            "Adding cloudpickle 1.3.0 to easy-install.pth file\n",
            "\n",
            "Using /usr/local/lib/python3.6/dist-packages\n",
            "Searching for pyglet==1.5.0\n",
            "Best match: pyglet 1.5.0\n",
            "Adding pyglet 1.5.0 to easy-install.pth file\n",
            "\n",
            "Using /usr/local/lib/python3.6/dist-packages\n",
            "Searching for pytz==2018.9\n",
            "Best match: pytz 2018.9\n",
            "Adding pytz 2018.9 to easy-install.pth file\n",
            "\n",
            "Using /usr/local/lib/python3.6/dist-packages\n",
            "Searching for python-dateutil==2.8.1\n",
            "Best match: python-dateutil 2.8.1\n",
            "Adding python-dateutil 2.8.1 to easy-install.pth file\n",
            "\n",
            "Using /usr/local/lib/python3.6/dist-packages\n",
            "Searching for scikit-learn==0.22.2.post1\n",
            "Best match: scikit-learn 0.22.2.post1\n",
            "Adding scikit-learn 0.22.2.post1 to easy-install.pth file\n",
            "\n",
            "Using /usr/local/lib/python3.6/dist-packages\n",
            "Searching for kiwisolver==1.3.1\n",
            "Best match: kiwisolver 1.3.1\n",
            "Adding kiwisolver 1.3.1 to easy-install.pth file\n",
            "\n",
            "Using /usr/local/lib/python3.6/dist-packages\n",
            "Searching for pyparsing==2.4.7\n",
            "Best match: pyparsing 2.4.7\n",
            "Adding pyparsing 2.4.7 to easy-install.pth file\n",
            "\n",
            "Using /usr/local/lib/python3.6/dist-packages\n",
            "Searching for cycler==0.10.0\n",
            "Best match: cycler 0.10.0\n",
            "Adding cycler 0.10.0 to easy-install.pth file\n",
            "\n",
            "Using /usr/local/lib/python3.6/dist-packages\n",
            "Searching for future==0.16.0\n",
            "Best match: future 0.16.0\n",
            "Adding future 0.16.0 to easy-install.pth file\n",
            "Installing futurize script to /usr/local/bin\n",
            "Installing pasteurize script to /usr/local/bin\n",
            "\n",
            "Using /usr/local/lib/python3.6/dist-packages\n",
            "Searching for six==1.15.0\n",
            "Best match: six 1.15.0\n",
            "Adding six 1.15.0 to easy-install.pth file\n",
            "\n",
            "Using /usr/local/lib/python3.6/dist-packages\n",
            "Searching for joblib==0.17.0\n",
            "Best match: joblib 0.17.0\n",
            "Adding joblib 0.17.0 to easy-install.pth file\n",
            "\n",
            "Using /usr/local/lib/python3.6/dist-packages\n",
            "Finished processing dependencies for mlfromscratch==0.0.4\n"
          ],
          "name": "stdout"
        }
      ]
    },
    {
      "cell_type": "code",
      "metadata": {
        "id": "0br2Hg5_9dx6"
      },
      "source": [
        "from __future__ import print_function\n",
        "import matplotlib.pyplot as plt\n",
        "import numpy as np\n",
        "import pandas as pd\n",
        "# Import helper functions\n",
        "from mlfromscratch.supervised_learning import PolynomialRidgeRegression\n",
        "from mlfromscratch.utils import k_fold_cross_validation_sets, normalize, mean_squared_error\n",
        "from mlfromscratch.utils import train_test_split, polynomial_features, Plot"
      ],
      "execution_count": 6,
      "outputs": []
    },
    {
      "cell_type": "code",
      "metadata": {
        "id": "0y4u-Rpp_Wsi"
      },
      "source": [
        "# Load temperature data\n",
        "data = pd.read_csv('mlfromscratch/data/TempLinkoping2016.txt', sep=\"\\t\")"
      ],
      "execution_count": 7,
      "outputs": []
    },
    {
      "cell_type": "code",
      "metadata": {
        "id": "Hmm7YWhA_hve"
      },
      "source": [
        "time = np.atleast_2d(data[\"time\"].values).T\n",
        "temp = data[\"temp\"].values"
      ],
      "execution_count": 10,
      "outputs": []
    },
    {
      "cell_type": "code",
      "metadata": {
        "id": "YONSXKZKA26B"
      },
      "source": [
        "X = time # fraction of the year [0, 1]\n",
        "y = temp"
      ],
      "execution_count": 11,
      "outputs": []
    },
    {
      "cell_type": "code",
      "metadata": {
        "id": "QSlhL7U7A7gn"
      },
      "source": [
        "X_train, X_test, y_train, y_test = train_test_split(X, y, test_size=0.4)"
      ],
      "execution_count": 12,
      "outputs": []
    },
    {
      "cell_type": "code",
      "metadata": {
        "colab": {
          "base_uri": "https://localhost:8080/"
        },
        "id": "o3kWidZWBKCt",
        "outputId": "70a888eb-669e-4acf-f676-c6fc7fb00193"
      },
      "source": [
        "poly_degree = 15\n",
        "# Finding regularization constant using cross validation\n",
        "lowest_error = float(\"inf\")\n",
        "best_reg_factor = None\n",
        "print(\"Finding regularization constant using cross validation:\")\n",
        "k = 10\n",
        "for reg_factor in np.arange(0, 0.1, 0.01):\n",
        "    cross_validation_sets = k_fold_cross_validation_sets(\n",
        "        X_train, y_train, k=k)\n",
        "    mse = 0\n",
        "    for _X_train, _X_test, _y_train, _y_test in cross_validation_sets:\n",
        "        model = PolynomialRidgeRegression(degree=poly_degree, \n",
        "                                        reg_factor=reg_factor,\n",
        "                                        learning_rate=0.001,\n",
        "                                        n_iterations=10000)\n",
        "        model.fit(_X_train, _y_train)\n",
        "        y_pred = model.predict(_X_test)\n",
        "        _mse = mean_squared_error(_y_test, y_pred)\n",
        "        mse += _mse\n",
        "    mse /= k\n",
        "\n",
        "    # Print the mean squared error\n",
        "    print (\"\\tMean Squared Error: %s (regularization: %s)\" % (mse, reg_factor))\n",
        "\n",
        "    # Save reg. constant that gave lowest error\n",
        "    if mse < lowest_error:\n",
        "        best_reg_factor = reg_factor\n",
        "        lowest_error = mse"
      ],
      "execution_count": 16,
      "outputs": [
        {
          "output_type": "stream",
          "text": [
            "Finding regularization constant using cross validation:\n"
          ],
          "name": "stdout"
        },
        {
          "output_type": "stream",
          "text": [
            "/content/ML-From-Scratch/mlfromscratch/utils/data_manipulation.py:145: VisibleDeprecationWarning: Creating an ndarray from ragged nested sequences (which is a list-or-tuple of lists-or-tuples-or ndarrays with different lengths or shapes) is deprecated. If you meant to do this, you must specify 'dtype=object' when creating the ndarray\n",
            "  return np.array(sets)\n"
          ],
          "name": "stderr"
        },
        {
          "output_type": "stream",
          "text": [
            "\tMean Squared Error: 12.11627812995781 (regularization: 0.0)\n",
            "\tMean Squared Error: 12.171117908933464 (regularization: 0.01)\n",
            "\tMean Squared Error: 12.046805698594067 (regularization: 0.02)\n",
            "\tMean Squared Error: 12.258260129140115 (regularization: 0.03)\n",
            "\tMean Squared Error: 11.943992492980799 (regularization: 0.04)\n",
            "\tMean Squared Error: 12.184204586010148 (regularization: 0.05)\n",
            "\tMean Squared Error: 12.3133633303898 (regularization: 0.06)\n",
            "\tMean Squared Error: 12.38380105898671 (regularization: 0.07)\n",
            "\tMean Squared Error: 12.12916577942334 (regularization: 0.08)\n",
            "\tMean Squared Error: 12.457259508031235 (regularization: 0.09)\n"
          ],
          "name": "stdout"
        }
      ]
    },
    {
      "cell_type": "code",
      "metadata": {
        "colab": {
          "base_uri": "https://localhost:8080/"
        },
        "id": "hZ2TrIU1GJIA",
        "outputId": "f64aa6b6-e937-47e8-b657-b0ebfba8b22a"
      },
      "source": [
        "# Make final prediction\n",
        "model = PolynomialRidgeRegression(degree=poly_degree, \n",
        "                                reg_factor=best_reg_factor,\n",
        "                                learning_rate=0.001,\n",
        "                                n_iterations=10000)\n",
        "model.fit(X_train, y_train)\n",
        "y_pred = model.predict(X_test)\n",
        "mse = mean_squared_error(y_test, y_pred)\n",
        "print (\"Mean squared error: %s (given by reg. factor: %s)\" % (lowest_error, best_reg_factor))\n"
      ],
      "execution_count": 29,
      "outputs": [
        {
          "output_type": "stream",
          "text": [
            "Mean squared error: 11.943992492980799 (given by reg. factor: 0.04)\n"
          ],
          "name": "stdout"
        }
      ]
    },
    {
      "cell_type": "code",
      "metadata": {
        "colab": {
          "base_uri": "https://localhost:8080/",
          "height": 308
        },
        "id": "8I6w__deHDZ2",
        "outputId": "adb01e8b-87d4-4c4a-8400-40c7181c65d9"
      },
      "source": [
        "y_pred_line = model.predict(X)\n",
        "# Color map\n",
        "cmap = plt.get_cmap('viridis')\n",
        "\n",
        "# Plot the results\n",
        "m1 = plt.scatter(366 * X_train, y_train, color=cmap(0.9), s=10)\n",
        "m2 = plt.scatter(366 * X_test, y_test, color=cmap(0.5), s=10)\n",
        "plt.plot(366 * X, y_pred_line, color='black', linewidth=2, label=\"Prediction\")\n",
        "plt.suptitle(\"Polynomial Ridge Regression\")\n",
        "plt.title(\"MSE: %.2f\" % mse, fontsize=10)\n",
        "plt.xlabel('Day')\n",
        "plt.ylabel('Temperature in Celcius')\n",
        "plt.legend((m1, m2), (\"Training data\", \"Test data\"), loc='lower right')\n",
        "plt.show()"
      ],
      "execution_count": 30,
      "outputs": [
        {
          "output_type": "display_data",
          "data": {
            "image/png": "[encoded data removed]",
            "text/plain": [
              "<Figure size 432x288 with 1 Axes>"
            ]
          },
          "metadata": {
            "tags": [],
            "needs_background": "light"
          }
        }
      ]
    }
  ]
}